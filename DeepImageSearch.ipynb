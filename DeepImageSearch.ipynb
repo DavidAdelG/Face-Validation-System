{
 "cells": [
  {
   "cell_type": "code",
   "execution_count": 2,
   "outputs": [],
   "source": [
    "import pandas as pd"
   ],
   "metadata": {
    "collapsed": false,
    "ExecuteTime": {
     "end_time": "2023-11-19T17:43:12.943543600Z",
     "start_time": "2023-11-19T17:43:12.390090400Z"
    }
   },
   "id": "c0ad8ed53eaf4b92"
  },
  {
   "cell_type": "code",
   "execution_count": 21,
   "outputs": [],
   "source": [
    "# Example data: image file paths\n",
    "image_data = {\n",
    "    \"user_id\": [1, 2],\n",
    "    \"FilePath\": [\"/path/to/image1.jpg\", \"/path/to/image2.jpg\"]\n",
    "}\n",
    "\n",
    "# Creating a DataFrame\n",
    "df = pd.DataFrame(image_data)\n",
    "\n",
    "# Save to CSV\n",
    "csv_file_path = \"valid.csv\"\n",
    "df.to_csv(csv_file_path, index=False)\n"
   ],
   "metadata": {
    "collapsed": false,
    "ExecuteTime": {
     "end_time": "2023-11-19T17:53:29.629031800Z",
     "start_time": "2023-11-19T17:53:29.625190900Z"
    }
   },
   "id": "initial_id"
  },
  {
   "cell_type": "code",
   "execution_count": 25,
   "outputs": [],
   "source": [
    "import pandas as pd\n",
    "\n",
    "# Load existing CSV file into a DataFrame (if it exists)\n",
    "existing_csv_file = \"valid.csv\"\n",
    "try:\n",
    "    df = pd.read_csv(existing_csv_file)\n",
    "except FileNotFoundError:\n",
    "    # If the file doesn't exist, create an empty DataFrame\n",
    "    df = pd.DataFrame(columns=[\"user_id\", \"FilePath\"])\n",
    "\n",
    "# New user and image data\n",
    "new_user_data = {\"user_id\": 4, \"FilePath\": \"Faces/MESSI.jpg\"}\n",
    "\n",
    "# Append new data to the DataFrame\n",
    "df = pd.concat([df, pd.DataFrame([new_user_data])], ignore_index=True)\n",
    "\n",
    "# Save the updated DataFrame to the CSV file\n",
    "df.to_csv(existing_csv_file, index=False)\n"
   ],
   "metadata": {
    "collapsed": false,
    "ExecuteTime": {
     "end_time": "2023-11-19T18:29:00.764432300Z",
     "start_time": "2023-11-19T18:29:00.755987400Z"
    }
   },
   "id": "71a66def2b98a5e0"
  },
  {
   "cell_type": "code",
   "execution_count": 23,
   "outputs": [
    {
     "data": {
      "text/plain": "   user_id                         FilePath\n0        1              /path/to/image1.jpg\n1        2              /path/to/image2.jpg\n2        3  Faces/HP Photosmart M537384.JPG",
      "text/html": "<div>\n<style scoped>\n    .dataframe tbody tr th:only-of-type {\n        vertical-align: middle;\n    }\n\n    .dataframe tbody tr th {\n        vertical-align: top;\n    }\n\n    .dataframe thead th {\n        text-align: right;\n    }\n</style>\n<table border=\"1\" class=\"dataframe\">\n  <thead>\n    <tr style=\"text-align: right;\">\n      <th></th>\n      <th>user_id</th>\n      <th>FilePath</th>\n    </tr>\n  </thead>\n  <tbody>\n    <tr>\n      <th>0</th>\n      <td>1</td>\n      <td>/path/to/image1.jpg</td>\n    </tr>\n    <tr>\n      <th>1</th>\n      <td>2</td>\n      <td>/path/to/image2.jpg</td>\n    </tr>\n    <tr>\n      <th>2</th>\n      <td>3</td>\n      <td>Faces/HP Photosmart M537384.JPG</td>\n    </tr>\n  </tbody>\n</table>\n</div>"
     },
     "execution_count": 23,
     "metadata": {},
     "output_type": "execute_result"
    }
   ],
   "source": [
    "df"
   ],
   "metadata": {
    "collapsed": false,
    "ExecuteTime": {
     "end_time": "2023-11-19T18:01:52.044888400Z",
     "start_time": "2023-11-19T18:01:52.041374500Z"
    }
   },
   "id": "36c9472df55b2801"
  }
 ],
 "metadata": {
  "kernelspec": {
   "display_name": "Python 3",
   "language": "python",
   "name": "python3"
  },
  "language_info": {
   "codemirror_mode": {
    "name": "ipython",
    "version": 2
   },
   "file_extension": ".py",
   "mimetype": "text/x-python",
   "name": "python",
   "nbconvert_exporter": "python",
   "pygments_lexer": "ipython2",
   "version": "2.7.6"
  }
 },
 "nbformat": 4,
 "nbformat_minor": 5
}
